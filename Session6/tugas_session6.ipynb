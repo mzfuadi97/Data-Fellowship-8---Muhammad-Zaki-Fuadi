{
 "cells": [
  {
   "cell_type": "code",
   "execution_count": 1,
   "id": "55607e3f",
   "metadata": {},
   "outputs": [
    {
     "data": {
      "text/plain": [
       "'/usr/local/spark/python/pyspark/__init__.py'"
      ]
     },
     "execution_count": 1,
     "metadata": {},
     "output_type": "execute_result"
    }
   ],
   "source": [
    "import pyspark\n",
    "pyspark.__file__"
   ]
  },
  {
   "cell_type": "code",
   "execution_count": 3,
   "id": "8c1b8a1f",
   "metadata": {},
   "outputs": [],
   "source": [
    "from pyspark.sql import SparkSession"
   ]
  },
  {
   "cell_type": "code",
   "execution_count": 4,
   "id": "efe6598e",
   "metadata": {},
   "outputs": [
    {
     "name": "stderr",
     "output_type": "stream",
     "text": [
      "WARNING: An illegal reflective access operation has occurred\n",
      "WARNING: Illegal reflective access by org.apache.spark.unsafe.Platform (file:/usr/local/spark-3.1.2-bin-hadoop3.2/jars/spark-unsafe_2.12-3.1.2.jar) to constructor java.nio.DirectByteBuffer(long,int)\n",
      "WARNING: Please consider reporting this to the maintainers of org.apache.spark.unsafe.Platform\n",
      "WARNING: Use --illegal-access=warn to enable warnings of further illegal reflective access operations\n",
      "WARNING: All illegal access operations will be denied in a future release\n",
      "22/12/12 00:37:35 WARN NativeCodeLoader: Unable to load native-hadoop library for your platform... using builtin-java classes where applicable\n",
      "Using Spark's default log4j profile: org/apache/spark/log4j-defaults.properties\n",
      "Setting default log level to \"WARN\".\n",
      "To adjust logging level use sc.setLogLevel(newLevel). For SparkR, use setLogLevel(newLevel).\n"
     ]
    }
   ],
   "source": [
    "spark = SparkSession.builder \\\n",
    "    .master(\"local[*]\") \\\n",
    "    .appName('test') \\\n",
    "    .getOrCreate()"
   ]
  },
  {
   "cell_type": "code",
   "execution_count": 5,
   "id": "f568de9c",
   "metadata": {},
   "outputs": [
    {
     "data": {
      "text/html": [
       "\n",
       "            <div>\n",
       "                <p><b>SparkSession - in-memory</b></p>\n",
       "                \n",
       "        <div>\n",
       "            <p><b>SparkContext</b></p>\n",
       "\n",
       "            <p><a href=\"http://ad1dbdd88916:4040\">Spark UI</a></p>\n",
       "\n",
       "            <dl>\n",
       "              <dt>Version</dt>\n",
       "                <dd><code>v3.1.2</code></dd>\n",
       "              <dt>Master</dt>\n",
       "                <dd><code>local[*]</code></dd>\n",
       "              <dt>AppName</dt>\n",
       "                <dd><code>test</code></dd>\n",
       "            </dl>\n",
       "        </div>\n",
       "        \n",
       "            </div>\n",
       "        "
      ],
      "text/plain": [
       "<pyspark.sql.session.SparkSession at 0x7f0284e487f0>"
      ]
     },
     "execution_count": 5,
     "metadata": {},
     "output_type": "execute_result"
    }
   ],
   "source": [
    "spark"
   ]
  },
  {
   "cell_type": "code",
   "execution_count": 6,
   "id": "f172b33e",
   "metadata": {},
   "outputs": [
    {
     "name": "stdout",
     "output_type": "stream",
     "text": [
      "--2022-12-12 00:41:15--  https://d37ci6vzurychx.cloudfront.net/trip-data/fhv_tripdata_2021-02.parquet\n",
      "Resolving d37ci6vzurychx.cloudfront.net (d37ci6vzurychx.cloudfront.net)... 18.160.201.5, 18.160.201.50, 18.160.201.126, ...\n",
      "Connecting to d37ci6vzurychx.cloudfront.net (d37ci6vzurychx.cloudfront.net)|18.160.201.5|:443... connected.\n",
      "HTTP request sent, awaiting response... 200 OK\n",
      "Length: 10645466 (10M) [binary/octet-stream]\n",
      "Saving to: ‘fhv_tripdata_2021-02.parquet’\n",
      "\n",
      "fhv_tripdata_2021-0 100%[===================>]  10.15M  51.6MB/s    in 0.2s    \n",
      "\n",
      "2022-12-12 00:41:15 (51.6 MB/s) - ‘fhv_tripdata_2021-02.parquet’ saved [10645466/10645466]\n",
      "\n"
     ]
    }
   ],
   "source": [
    "!wget 'https://d37ci6vzurychx.cloudfront.net/trip-data/fhv_tripdata_2021-02.parquet'"
   ]
  },
  {
   "cell_type": "code",
   "execution_count": 8,
   "id": "75eb4458",
   "metadata": {},
   "outputs": [
    {
     "name": "stderr",
     "output_type": "stream",
     "text": [
      "                                                                                \r"
     ]
    }
   ],
   "source": [
    "df = spark.read \\\n",
    "    .option(\"header\", \"true\") \\\n",
    "    .parquet('fhv_tripdata_2021-02.parquet')"
   ]
  },
  {
   "cell_type": "code",
   "execution_count": 9,
   "id": "13f1e597",
   "metadata": {},
   "outputs": [
    {
     "name": "stderr",
     "output_type": "stream",
     "text": [
      "                                                                                \r"
     ]
    },
    {
     "name": "stdout",
     "output_type": "stream",
     "text": [
      "+--------------------+-------------------+-------------------+------------+------------+-------+----------------------+\n",
      "|dispatching_base_num|    pickup_datetime|   dropOff_datetime|PUlocationID|DOlocationID|SR_Flag|Affiliated_base_number|\n",
      "+--------------------+-------------------+-------------------+------------+------------+-------+----------------------+\n",
      "|              B00013|2021-02-01 00:01:00|2021-02-01 01:33:00|        null|        null|   null|                B00014|\n",
      "|     B00021         |2021-02-01 00:55:40|2021-02-01 01:06:20|       173.0|        82.0|   null|       B00021         |\n",
      "|     B00021         |2021-02-01 00:14:03|2021-02-01 00:28:37|       173.0|        56.0|   null|       B00021         |\n",
      "|     B00021         |2021-02-01 00:27:48|2021-02-01 00:35:45|        82.0|       129.0|   null|       B00021         |\n",
      "|              B00037|2021-02-01 00:12:50|2021-02-01 00:26:38|        null|       225.0|   null|                B00037|\n",
      "|              B00037|2021-02-01 00:00:37|2021-02-01 00:09:35|        null|        61.0|   null|                B00037|\n",
      "|              B00112|2021-02-01 00:30:25|2021-02-01 00:57:23|        null|        26.0|   null|                B00112|\n",
      "|              B00149|2021-02-01 00:43:16|2021-02-01 01:03:16|        null|        72.0|   null|                B00149|\n",
      "|              B00221|2021-02-01 00:20:45|2021-02-01 00:21:15|        null|       244.0|   null|                B00221|\n",
      "|              B00225|2021-02-01 00:23:27|2021-02-01 00:55:46|        null|       169.0|   null|                B00225|\n",
      "+--------------------+-------------------+-------------------+------------+------------+-------+----------------------+\n",
      "only showing top 10 rows\n",
      "\n"
     ]
    }
   ],
   "source": [
    "df.show(10)"
   ]
  },
  {
   "cell_type": "code",
   "execution_count": 10,
   "id": "27400d6b",
   "metadata": {},
   "outputs": [],
   "source": [
    "df.createOrReplaceTempView('tripdata')"
   ]
  },
  {
   "cell_type": "code",
   "execution_count": 11,
   "id": "fa1e8e49",
   "metadata": {},
   "outputs": [],
   "source": [
    "tripdata=spark.sql('SELECT * FROM tripdata limit 10')"
   ]
  },
  {
   "cell_type": "code",
   "execution_count": 12,
   "id": "6a9541ef",
   "metadata": {},
   "outputs": [
    {
     "name": "stdout",
     "output_type": "stream",
     "text": [
      "+--------------------+-------------------+-------------------+------------+------------+-------+----------------------+\n",
      "|dispatching_base_num|    pickup_datetime|   dropOff_datetime|PUlocationID|DOlocationID|SR_Flag|Affiliated_base_number|\n",
      "+--------------------+-------------------+-------------------+------------+------------+-------+----------------------+\n",
      "|              B00013|2021-02-01 00:01:00|2021-02-01 01:33:00|        null|        null|   null|                B00014|\n",
      "|     B00021         |2021-02-01 00:55:40|2021-02-01 01:06:20|       173.0|        82.0|   null|       B00021         |\n",
      "|     B00021         |2021-02-01 00:14:03|2021-02-01 00:28:37|       173.0|        56.0|   null|       B00021         |\n",
      "|     B00021         |2021-02-01 00:27:48|2021-02-01 00:35:45|        82.0|       129.0|   null|       B00021         |\n",
      "|              B00037|2021-02-01 00:12:50|2021-02-01 00:26:38|        null|       225.0|   null|                B00037|\n",
      "|              B00037|2021-02-01 00:00:37|2021-02-01 00:09:35|        null|        61.0|   null|                B00037|\n",
      "|              B00112|2021-02-01 00:30:25|2021-02-01 00:57:23|        null|        26.0|   null|                B00112|\n",
      "|              B00149|2021-02-01 00:43:16|2021-02-01 01:03:16|        null|        72.0|   null|                B00149|\n",
      "|              B00221|2021-02-01 00:20:45|2021-02-01 00:21:15|        null|       244.0|   null|                B00221|\n",
      "|              B00225|2021-02-01 00:23:27|2021-02-01 00:55:46|        null|       169.0|   null|                B00225|\n",
      "+--------------------+-------------------+-------------------+------------+------------+-------+----------------------+\n",
      "\n"
     ]
    }
   ],
   "source": [
    "tripdata.show()"
   ]
  },
  {
   "cell_type": "code",
   "execution_count": 17,
   "id": "c58b9abd",
   "metadata": {},
   "outputs": [
    {
     "name": "stderr",
     "output_type": "stream",
     "text": [
      "                                                                                \r"
     ]
    },
    {
     "name": "stdout",
     "output_type": "stream",
     "text": [
      "+---------------+--------+\n",
      "|pickup_datetime|qty_trip|\n",
      "+---------------+--------+\n",
      "|     2021-02-15|   34814|\n",
      "+---------------+--------+\n",
      "\n"
     ]
    },
    {
     "name": "stderr",
     "output_type": "stream",
     "text": [
      "                                                                                \r"
     ]
    }
   ],
   "source": [
    "spark.sql(\"select cast(pickup_datetime as date), COUNT(*) as qty_trip from tripdata where extract(day from pickup_datetime) = 15 group by 1\").show()"
   ]
  },
  {
   "cell_type": "code",
   "execution_count": 26,
   "id": "5aeb6bcd",
   "metadata": {},
   "outputs": [
    {
     "name": "stderr",
     "output_type": "stream",
     "text": [
      "[Stage 25:===================================================>  (189 + 2) / 200]\r"
     ]
    },
    {
     "name": "stdout",
     "output_type": "stream",
     "text": [
      "+---------------+------------------+\n",
      "|pickup_datetime|      trip_minutes|\n",
      "+---------------+------------------+\n",
      "|     2021-02-01|           46290.0|\n",
      "|     2021-02-02|1390.7833333333333|\n",
      "|     2021-02-03| 40034.88333333333|\n",
      "|     2021-02-04|          110919.0|\n",
      "|     2021-02-05|3184.6833333333334|\n",
      "|     2021-02-06|            1440.0|\n",
      "|     2021-02-07|1121.3333333333333|\n",
      "|     2021-02-08| 9424.916666666666|\n",
      "|     2021-02-09|1459.9833333333333|\n",
      "|     2021-02-10|3219.8166666666666|\n",
      "|     2021-02-11|2819.2166666666667|\n",
      "|     2021-02-12|            4344.0|\n",
      "|     2021-02-13| 8422.683333333332|\n",
      "|     2021-02-14|            1519.4|\n",
      "|     2021-02-15|          14670.15|\n",
      "|     2021-02-16|            4816.1|\n",
      "|     2021-02-17| 4284.783333333334|\n",
      "|     2021-02-18|1934.7666666666667|\n",
      "|     2021-02-19|           9012.15|\n",
      "|     2021-02-20|2615.5666666666666|\n",
      "+---------------+------------------+\n",
      "only showing top 20 rows\n",
      "\n"
     ]
    },
    {
     "name": "stderr",
     "output_type": "stream",
     "text": [
      "                                                                                \r"
     ]
    }
   ],
   "source": [
    "spark.sql(\"select cast(pickup_datetime as date), max((bigint(to_timestamp(dropOff_datetime))-bigint(to_timestamp(pickup_datetime)))/60) as trip_minutes from tripdata group by 1 order by 1\").show()"
   ]
  },
  {
   "cell_type": "code",
   "execution_count": 27,
   "id": "b6e23b82",
   "metadata": {},
   "outputs": [
    {
     "name": "stderr",
     "output_type": "stream",
     "text": [
      "[Stage 27:=================================================>    (183 + 2) / 200]\r"
     ]
    },
    {
     "name": "stdout",
     "output_type": "stream",
     "text": [
      "+--------------------+------------------------------+\n",
      "|dispatching_base_num|number_of_dispatching_base_num|\n",
      "+--------------------+------------------------------+\n",
      "|              B00856|                         35077|\n",
      "|              B01312|                         33089|\n",
      "|              B01145|                         31114|\n",
      "|              B02794|                         30397|\n",
      "|              B03016|                         29794|\n",
      "+--------------------+------------------------------+\n",
      "\n"
     ]
    },
    {
     "name": "stderr",
     "output_type": "stream",
     "text": [
      "                                                                                \r"
     ]
    }
   ],
   "source": [
    "spark.sql(\"select dispatching_base_num, count(*) as number_of_dispatching_base_num from tripdata group by 1 order by 2 desc limit 5\").show()"
   ]
  },
  {
   "cell_type": "code",
   "execution_count": 28,
   "id": "2043f74d",
   "metadata": {},
   "outputs": [
    {
     "name": "stderr",
     "output_type": "stream",
     "text": [
      "[Stage 30:===============================================>      (175 + 2) / 200]\r"
     ]
    },
    {
     "name": "stdout",
     "output_type": "stream",
     "text": [
      "+------------+------------+--------------+\n",
      "|PUlocationID|DOlocationID|countPUDUpairs|\n",
      "+------------+------------+--------------+\n",
      "|       206.0|       206.0|          2374|\n",
      "|       221.0|       206.0|          2112|\n",
      "|       129.0|       129.0|          1902|\n",
      "|         7.0|         7.0|          1829|\n",
      "|       179.0|       179.0|          1736|\n",
      "+------------+------------+--------------+\n",
      "\n"
     ]
    },
    {
     "name": "stderr",
     "output_type": "stream",
     "text": [
      "                                                                                \r"
     ]
    }
   ],
   "source": [
    "spark.sql(\"select PUlocationID, DOlocationID, count(*) as countPUDUpairs from tripdata where PUlocationID is not null and DOlocationID is not null group by 1,2 order by 3 desc limit 5\").show()"
   ]
  },
  {
   "cell_type": "code",
   "execution_count": 29,
   "id": "36451d23",
   "metadata": {},
   "outputs": [
    {
     "data": {
      "text/plain": [
       "'/home/jovyan'"
      ]
     },
     "execution_count": 29,
     "metadata": {},
     "output_type": "execute_result"
    }
   ],
   "source": [
    "pwd"
   ]
  },
  {
   "cell_type": "code",
   "execution_count": null,
   "id": "9356850f",
   "metadata": {},
   "outputs": [],
   "source": []
  }
 ],
 "metadata": {
  "kernelspec": {
   "display_name": "Python 3 (ipykernel)",
   "language": "python",
   "name": "python3"
  },
  "language_info": {
   "codemirror_mode": {
    "name": "ipython",
    "version": 3
   },
   "file_extension": ".py",
   "mimetype": "text/x-python",
   "name": "python",
   "nbconvert_exporter": "python",
   "pygments_lexer": "ipython3",
   "version": "3.9.7"
  }
 },
 "nbformat": 4,
 "nbformat_minor": 5
}
